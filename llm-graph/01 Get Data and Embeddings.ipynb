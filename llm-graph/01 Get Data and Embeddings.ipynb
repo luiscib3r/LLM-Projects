{
 "cells": [
  {
   "cell_type": "code",
   "execution_count": 1,
   "metadata": {},
   "outputs": [],
   "source": [
    "import tqdm\n",
    "import pandas as pd\n",
    "from langchain_community.graphs import Neo4jGraph\n",
    "from pydantic_settings import BaseSettings, SettingsConfigDict\n",
    "from langchain_community.embeddings import OllamaEmbeddings"
   ]
  },
  {
   "cell_type": "code",
   "execution_count": 2,
   "metadata": {},
   "outputs": [],
   "source": [
    "\n",
    "class Settings(BaseSettings):\n",
    "    model_config = SettingsConfigDict(\n",
    "        env_file=\".env\", env_ignore_empty=True, extra=\"ignore\"\n",
    "    )\n",
    "\n",
    "    # Neo4j\n",
    "    NEO4J_URL: str\n",
    "    NEO4J_USERNAME: str\n",
    "    NEO4J_PASSWORD: str\n",
    "    \n",
    "    # Groq\n",
    "    GROQ_API_KEY: str\n",
    "    GROQ_MODEL_ID: str\n",
    "\n",
    "    # Ollama\n",
    "    OLLAMA_EMBEDDING_MODEL_ID: str\n",
    "\n",
    "\n",
    "settings = Settings()"
   ]
  },
  {
   "cell_type": "code",
   "execution_count": 3,
   "metadata": {},
   "outputs": [],
   "source": [
    "graph = Neo4jGraph(\n",
    "    url=settings.NEO4J_URL,\n",
    "    username=settings.NEO4J_USERNAME,\n",
    "    password=settings.NEO4J_PASSWORD,\n",
    ")"
   ]
  },
  {
   "cell_type": "code",
   "execution_count": 4,
   "metadata": {},
   "outputs": [
    {
     "data": {
      "text/html": [
       "<div>\n",
       "<style scoped>\n",
       "    .dataframe tbody tr th:only-of-type {\n",
       "        vertical-align: middle;\n",
       "    }\n",
       "\n",
       "    .dataframe tbody tr th {\n",
       "        vertical-align: top;\n",
       "    }\n",
       "\n",
       "    .dataframe thead th {\n",
       "        text-align: right;\n",
       "    }\n",
       "</style>\n",
       "<table border=\"1\" class=\"dataframe\">\n",
       "  <thead>\n",
       "    <tr style=\"text-align: right;\">\n",
       "      <th></th>\n",
       "      <th>m.title</th>\n",
       "      <th>m.plot</th>\n",
       "      <th>m.poster</th>\n",
       "    </tr>\n",
       "  </thead>\n",
       "  <tbody>\n",
       "    <tr>\n",
       "      <th>0</th>\n",
       "      <td>Toy Story</td>\n",
       "      <td>A cowboy doll is profoundly threatened and jea...</td>\n",
       "      <td>https://image.tmdb.org/t/p/w440_and_h660_face/...</td>\n",
       "    </tr>\n",
       "  </tbody>\n",
       "</table>\n",
       "</div>"
      ],
      "text/plain": [
       "     m.title                                             m.plot  \\\n",
       "0  Toy Story  A cowboy doll is profoundly threatened and jea...   \n",
       "\n",
       "                                            m.poster  \n",
       "0  https://image.tmdb.org/t/p/w440_and_h660_face/...  "
      ]
     },
     "execution_count": 4,
     "metadata": {},
     "output_type": "execute_result"
    }
   ],
   "source": [
    "result = graph.query(\"\"\"\n",
    "MATCH (m:Movie{title: 'Toy Story'}) \n",
    "RETURN m.title, m.plot, m.poster\n",
    "\"\"\")\n",
    "\n",
    "data = pd.DataFrame(result)\n",
    "\n",
    "data"
   ]
  },
  {
   "cell_type": "code",
   "execution_count": 5,
   "metadata": {},
   "outputs": [
    {
     "name": "stdout",
     "output_type": "stream",
     "text": [
      "Node properties are the following:\n",
      "Movie {url: STRING, runtime: INTEGER, revenue: INTEGER, embedding: LIST, imdbRating: FLOAT, released: STRING, countries: LIST, languages: LIST, plot: STRING, imdbVotes: INTEGER, imdbId: STRING, year: INTEGER, poster: STRING, movieId: STRING, tmdbId: STRING, title: STRING, budget: INTEGER},Genre {name: STRING},User {userId: STRING, name: STRING},Actor {url: STRING, name: STRING, tmdbId: STRING, bornIn: STRING, bio: STRING, died: DATE, born: DATE, imdbId: STRING, poster: STRING},Director {url: STRING, bornIn: STRING, bio: STRING, died: DATE, born: DATE, imdbId: STRING, name: STRING, poster: STRING, tmdbId: STRING},Person {url: STRING, bornIn: STRING, bio: STRING, died: DATE, born: DATE, imdbId: STRING, name: STRING, poster: STRING, tmdbId: STRING}\n",
      "Relationship properties are the following:\n",
      "RATED {rating: FLOAT, timestamp: INTEGER},ACTED_IN {role: STRING},DIRECTED {role: STRING}\n",
      "The relationships are the following:\n",
      "(:Movie)-[:IN_GENRE]->(:Genre),(:User)-[:RATED]->(:Movie),(:Actor)-[:ACTED_IN]->(:Movie),(:Actor)-[:DIRECTED]->(:Movie),(:Director)-[:DIRECTED]->(:Movie),(:Director)-[:ACTED_IN]->(:Movie),(:Person)-[:ACTED_IN]->(:Movie),(:Person)-[:DIRECTED]->(:Movie)\n"
     ]
    }
   ],
   "source": [
    "print(graph.schema)"
   ]
  },
  {
   "cell_type": "code",
   "execution_count": 8,
   "metadata": {},
   "outputs": [],
   "source": [
    "# Get all movies\n",
    "result = graph.query(\"\"\"\n",
    "MATCH (m:Movie)\n",
    "RETURN m.movieId, m.title, m.plot, m.poster\n",
    "\"\"\")\n",
    "\n",
    "data = pd.DataFrame(result)\n",
    "\n",
    "# Rename columns\n",
    "data.columns = ['id', 'title', 'plot', 'poster']\n",
    "\n",
    "data\n",
    "\n",
    "# Save the data\n",
    "data.to_csv('data/movies.csv', index=False)\n"
   ]
  },
  {
   "cell_type": "code",
   "execution_count": 9,
   "metadata": {},
   "outputs": [
    {
     "name": "stdout",
     "output_type": "stream",
     "text": [
      "mxbai-embed-large\n"
     ]
    },
    {
     "data": {
      "text/plain": [
       "[0.21226204931735992,\n",
       " -0.13709497451782227,\n",
       " 0.19398094713687897,\n",
       " 0.715175449848175,\n",
       " -0.46527099609375]"
      ]
     },
     "execution_count": 9,
     "metadata": {},
     "output_type": "execute_result"
    }
   ],
   "source": [
    "# Calculate embeddings\n",
    "print(settings.OLLAMA_EMBEDDING_MODEL_ID)\n",
    "embeddings = OllamaEmbeddings(\n",
    "  model=settings.OLLAMA_EMBEDDING_MODEL_ID,\n",
    ")\n",
    "\n",
    "text = \"This is a test document.\"\n",
    "\n",
    "embedding = embeddings.embed_query(text)\n",
    "embedding[:5]"
   ]
  },
  {
   "cell_type": "code",
   "execution_count": 21,
   "metadata": {},
   "outputs": [
    {
     "name": "stderr",
     "output_type": "stream",
     "text": [
      "100%|██████████| 9125/9125 [05:57<00:00, 25.49it/s]\n"
     ]
    }
   ],
   "source": [
    "# Get embeddings for all movies\n",
    "data_embeddings = pd.DataFrame(columns=['movieId', 'embedding'])\n",
    "\n",
    "for i, row in tqdm.tqdm(data.iterrows(), total=len(data)):\n",
    "    embedding = embeddings.embed_query(row['plot'])\n",
    "    row = pd.DataFrame({\n",
    "        'movieId': [row['id']],\n",
    "        'embedding': [embedding]\n",
    "    })\n",
    "    data_embeddings = pd.concat([data_embeddings, row])\n",
    "\n",
    "# Save the data\n",
    "data_embeddings.to_csv('data/movies_embeddings.csv', index=False)"
   ]
  }
 ],
 "metadata": {
  "kernelspec": {
   "display_name": "llm-graph-iQ60tMzs",
   "language": "python",
   "name": "python3"
  },
  "language_info": {
   "codemirror_mode": {
    "name": "ipython",
    "version": 3
   },
   "file_extension": ".py",
   "mimetype": "text/x-python",
   "name": "python",
   "nbconvert_exporter": "python",
   "pygments_lexer": "ipython3",
   "version": "3.12.2"
  }
 },
 "nbformat": 4,
 "nbformat_minor": 2
}
